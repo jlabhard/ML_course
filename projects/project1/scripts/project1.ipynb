{
 "cells": [
  {
   "cell_type": "code",
   "execution_count": 22,
   "metadata": {},
   "outputs": [
    {
     "name": "stdout",
     "output_type": "stream",
     "text": [
      "The autoreload extension is already loaded. To reload it, use:\n",
      "  %reload_ext autoreload\n"
     ]
    }
   ],
   "source": [
    "# Useful starting lines\n",
    "%matplotlib inline\n",
    "import numpy as np\n",
    "import matplotlib.pyplot as plt\n",
    "%load_ext autoreload\n",
    "%autoreload 2"
   ]
  },
  {
   "cell_type": "markdown",
   "metadata": {},
   "source": [
    "## Load the training data into feature matrix, class labels, and event ids:"
   ]
  },
  {
   "cell_type": "code",
   "execution_count": 23,
   "metadata": {},
   "outputs": [],
   "source": [
    "from proj1_helpers import *\n",
    "DATA_TRAIN_PATH = '../data/train.csv' \n",
    "y, tX, ids = load_csv_data(DATA_TRAIN_PATH)"
   ]
  },
  {
   "cell_type": "code",
   "execution_count": 24,
   "metadata": {},
   "outputs": [],
   "source": [
    "def print_percentages(array):\n",
    "    for j in range(array.shape[1]):\n",
    "        count_col = 0\n",
    "        for i in range(array.shape[0]):\n",
    "            if array[i,j] == -999:\n",
    "                count_col += 1\n",
    "        count_col = (count_col/array.shape[0])*100\n",
    "        print(f'For the feature {j+1} : {count_col} % of missing values')"
   ]
  },
  {
   "cell_type": "code",
   "execution_count": 25,
   "metadata": {},
   "outputs": [
    {
     "name": "stdout",
     "output_type": "stream",
     "text": [
      "For the feature 1 : 15.245600000000001 % of missing values\n",
      "For the feature 2 : 0.0 % of missing values\n",
      "For the feature 3 : 0.0 % of missing values\n",
      "For the feature 4 : 0.0 % of missing values\n",
      "For the feature 5 : 70.9828 % of missing values\n",
      "For the feature 6 : 70.9828 % of missing values\n",
      "For the feature 7 : 70.9828 % of missing values\n",
      "For the feature 8 : 0.0 % of missing values\n",
      "For the feature 9 : 0.0 % of missing values\n",
      "For the feature 10 : 0.0 % of missing values\n",
      "For the feature 11 : 0.0 % of missing values\n",
      "For the feature 12 : 0.0 % of missing values\n",
      "For the feature 13 : 70.9828 % of missing values\n",
      "For the feature 14 : 0.0 % of missing values\n",
      "For the feature 15 : 0.0 % of missing values\n",
      "For the feature 16 : 0.0 % of missing values\n",
      "For the feature 17 : 0.0 % of missing values\n",
      "For the feature 18 : 0.0 % of missing values\n",
      "For the feature 19 : 0.0 % of missing values\n",
      "For the feature 20 : 0.0 % of missing values\n",
      "For the feature 21 : 0.0 % of missing values\n",
      "For the feature 22 : 0.0 % of missing values\n",
      "For the feature 23 : 0.0 % of missing values\n",
      "For the feature 24 : 39.9652 % of missing values\n",
      "For the feature 25 : 39.9652 % of missing values\n",
      "For the feature 26 : 39.9652 % of missing values\n",
      "For the feature 27 : 70.9828 % of missing values\n",
      "For the feature 28 : 70.9828 % of missing values\n",
      "For the feature 29 : 70.9828 % of missing values\n",
      "For the feature 30 : 0.0 % of missing values\n"
     ]
    }
   ],
   "source": [
    "print_percentages(tX)"
   ]
  },
  {
   "cell_type": "code",
   "execution_count": 32,
   "metadata": {},
   "outputs": [],
   "source": [
    "mask = []\n",
    "for j in range(tX.shape[1]):\n",
    "    mask.append(not (-999 in tX[:,j]))"
   ]
  },
  {
   "cell_type": "code",
   "execution_count": 33,
   "metadata": {},
   "outputs": [],
   "source": [
    "clean_cols = tX[:, mask]"
   ]
  },
  {
   "cell_type": "code",
   "execution_count": 34,
   "metadata": {},
   "outputs": [
    {
     "name": "stdout",
     "output_type": "stream",
     "text": [
      "For the feature 1 : 0.0 % of missing values\n",
      "For the feature 2 : 0.0 % of missing values\n",
      "For the feature 3 : 0.0 % of missing values\n",
      "For the feature 4 : 0.0 % of missing values\n",
      "For the feature 5 : 0.0 % of missing values\n",
      "For the feature 6 : 0.0 % of missing values\n",
      "For the feature 7 : 0.0 % of missing values\n",
      "For the feature 8 : 0.0 % of missing values\n",
      "For the feature 9 : 0.0 % of missing values\n",
      "For the feature 10 : 0.0 % of missing values\n",
      "For the feature 11 : 0.0 % of missing values\n",
      "For the feature 12 : 0.0 % of missing values\n",
      "For the feature 13 : 0.0 % of missing values\n",
      "For the feature 14 : 0.0 % of missing values\n",
      "For the feature 15 : 0.0 % of missing values\n",
      "For the feature 16 : 0.0 % of missing values\n",
      "For the feature 17 : 0.0 % of missing values\n",
      "For the feature 18 : 0.0 % of missing values\n",
      "For the feature 19 : 0.0 % of missing values\n"
     ]
    }
   ],
   "source": [
    "print_percentages(clean_cols)"
   ]
  },
  {
   "cell_type": "code",
   "execution_count": null,
   "metadata": {},
   "outputs": [],
   "source": []
  },
  {
   "cell_type": "markdown",
   "metadata": {},
   "source": [
    "## Do your thing crazy machine learning thing here :) ..."
   ]
  },
  {
   "cell_type": "markdown",
   "metadata": {},
   "source": [
    "## Generate predictions and save ouput in csv format for submission:"
   ]
  },
  {
   "cell_type": "code",
   "execution_count": 10,
   "metadata": {},
   "outputs": [],
   "source": [
    "DATA_TEST_PATH = '' # TODO: download train data and supply path here \n",
    "_, tX_test, ids_test = load_csv_data(DATA_TEST_PATH)"
   ]
  },
  {
   "cell_type": "code",
   "execution_count": 31,
   "metadata": {},
   "outputs": [],
   "source": [
    "OUTPUT_PATH = '' # TODO: fill in desired name of output file for submission\n",
    "y_pred = predict_labels(weights, tX_test)\n",
    "create_csv_submission(ids_test, y_pred, OUTPUT_PATH)"
   ]
  },
  {
   "cell_type": "code",
   "execution_count": null,
   "metadata": {
    "collapsed": true
   },
   "outputs": [],
   "source": []
  }
 ],
 "metadata": {
  "anaconda-cloud": {},
  "kernelspec": {
   "display_name": "Python 3",
   "language": "python",
   "name": "python3"
  },
  "language_info": {
   "codemirror_mode": {
    "name": "ipython",
    "version": 3
   },
   "file_extension": ".py",
   "mimetype": "text/x-python",
   "name": "python",
   "nbconvert_exporter": "python",
   "pygments_lexer": "ipython3",
   "version": "3.7.3"
  }
 },
 "nbformat": 4,
 "nbformat_minor": 1
}
    