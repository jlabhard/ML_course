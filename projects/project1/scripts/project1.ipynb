{
 "cells": [
  {
   "cell_type": "code",
   "execution_count": 32,
   "metadata": {},
   "outputs": [
    {
     "name": "stdout",
     "output_type": "stream",
     "text": [
      "The autoreload extension is already loaded. To reload it, use:\n",
      "  %reload_ext autoreload\n"
     ]
    }
   ],
   "source": [
    "# Useful starting lines\n",
    "%matplotlib inline\n",
    "import numpy as np\n",
    "import matplotlib.pyplot as plt\n",
    "from implementations import *\n",
    "%load_ext autoreload\n",
    "%autoreload 2"
   ]
  },
  {
   "cell_type": "markdown",
   "metadata": {},
   "source": [
    "## Load the training data into feature matrix, class labels, and event ids:"
   ]
  },
  {
   "cell_type": "code",
   "execution_count": 24,
   "metadata": {},
   "outputs": [],
   "source": [
    "from proj1_helpers import *\n",
    "DATA_TRAIN_PATH = '../data/train.csv' \n",
    "y, tX, ids = load_csv_data(DATA_TRAIN_PATH)"
   ]
  },
  {
   "cell_type": "markdown",
   "metadata": {},
   "source": [
    "## Do your thing crazy machine learning thing here :) ..."
   ]
  },
  {
   "cell_type": "code",
   "execution_count": 25,
   "metadata": {},
   "outputs": [],
   "source": [
    "def print_percentages(array):\n",
    "    for j in range(array.shape[1]):\n",
    "        count_col = 0\n",
    "        for i in range(array.shape[0]):\n",
    "            if array[i,j] == -999:\n",
    "                count_col += 1\n",
    "        count_col = (count_col/array.shape[0])*100\n",
    "        print(f'For the feature {j+1} : {count_col} % of missing values')"
   ]
  },
  {
   "cell_type": "code",
   "execution_count": 26,
   "metadata": {},
   "outputs": [
    {
     "name": "stdout",
     "output_type": "stream",
     "text": [
      "For the feature 1 : 15.245600000000001 % of missing values\n",
      "For the feature 2 : 0.0 % of missing values\n",
      "For the feature 3 : 0.0 % of missing values\n",
      "For the feature 4 : 0.0 % of missing values\n",
      "For the feature 5 : 70.9828 % of missing values\n",
      "For the feature 6 : 70.9828 % of missing values\n",
      "For the feature 7 : 70.9828 % of missing values\n",
      "For the feature 8 : 0.0 % of missing values\n",
      "For the feature 9 : 0.0 % of missing values\n",
      "For the feature 10 : 0.0 % of missing values\n",
      "For the feature 11 : 0.0 % of missing values\n",
      "For the feature 12 : 0.0 % of missing values\n",
      "For the feature 13 : 70.9828 % of missing values\n",
      "For the feature 14 : 0.0 % of missing values\n",
      "For the feature 15 : 0.0 % of missing values\n",
      "For the feature 16 : 0.0 % of missing values\n",
      "For the feature 17 : 0.0 % of missing values\n",
      "For the feature 18 : 0.0 % of missing values\n",
      "For the feature 19 : 0.0 % of missing values\n",
      "For the feature 20 : 0.0 % of missing values\n",
      "For the feature 21 : 0.0 % of missing values\n",
      "For the feature 22 : 0.0 % of missing values\n",
      "For the feature 23 : 0.0 % of missing values\n",
      "For the feature 24 : 39.9652 % of missing values\n",
      "For the feature 25 : 39.9652 % of missing values\n",
      "For the feature 26 : 39.9652 % of missing values\n",
      "For the feature 27 : 70.9828 % of missing values\n",
      "For the feature 28 : 70.9828 % of missing values\n",
      "For the feature 29 : 70.9828 % of missing values\n",
      "For the feature 30 : 0.0 % of missing values\n"
     ]
    }
   ],
   "source": [
    "print_percentages(tX)"
   ]
  },
  {
   "cell_type": "code",
   "execution_count": 27,
   "metadata": {},
   "outputs": [],
   "source": [
    "mask = []\n",
    "for j in range(tX.shape[1]):\n",
    "    mask.append(not (-999 in tX[:,j]))"
   ]
  },
  {
   "cell_type": "code",
   "execution_count": 28,
   "metadata": {},
   "outputs": [],
   "source": [
    "clean_cols = tX[:, mask]"
   ]
  },
  {
   "cell_type": "code",
   "execution_count": 95,
   "metadata": {},
   "outputs": [
    {
     "name": "stdout",
     "output_type": "stream",
     "text": [
      "[ 0.00000000e+00 -6.82088664e+05 -6.52229525e+05 -1.64621245e+05\n",
      "  0.00000000e+00  0.00000000e+00  0.00000000e+00 -1.84403222e+04\n",
      " -1.56891798e+05 -8.25565416e+05 -1.52256494e+04  8.70614238e+03\n",
      "  0.00000000e+00 -1.79383632e+05  5.91442338e+01 -1.25519364e+02\n",
      " -3.83776511e+05  1.98967335e+02 -1.64691532e+02 -3.10629498e+05\n",
      "  4.01063720e+02 -1.24355543e+06 -4.60511380e+03  0.00000000e+00\n",
      "  0.00000000e+00  0.00000000e+00  0.00000000e+00  0.00000000e+00\n",
      "  0.00000000e+00 -2.62405241e+05]\n"
     ]
    }
   ],
   "source": [
    "initial_w = np.zeros(clean_cols.shape[1])\n",
    "lambda_ = 10\n",
    "weights, loss = reg_logistic_regression(y, clean_cols, lambda_, initial_w, max_iters = 100, gamma = 0.01)"
   ]
  },
  {
   "cell_type": "code",
   "execution_count": 98,
   "metadata": {},
   "outputs": [],
   "source": [
    "w_0 = np.zeros(30)\n",
    "w_0[mask] = weights\n",
    "weights = w_0"
   ]
  },
  {
   "cell_type": "markdown",
   "metadata": {},
   "source": [
    "## Generate predictions and save ouput in csv format for submission:"
   ]
  },
  {
   "cell_type": "code",
   "execution_count": 88,
   "metadata": {},
   "outputs": [],
   "source": [
    "DATA_TEST_PATH = '../data/test.csv' # TODO: download train data and supply path here \n",
    "_, tX_test, ids_test = load_csv_data(DATA_TEST_PATH)"
   ]
  },
  {
   "cell_type": "code",
   "execution_count": 93,
   "metadata": {},
   "outputs": [
    {
     "name": "stdout",
     "output_type": "stream",
     "text": [
      "rmse  621218908.5896857\n",
      "mse  1.929564661946801e+17\n",
      "loss found  -17579887122382.918\n"
     ]
    }
   ],
   "source": [
    "rmse_loss = compute_rmse(y, clean_cols, weights)\n",
    "mse_loss = compute_mse(y, clean_cols, weights)\n",
    "print('rmse ', rmse_loss)\n",
    "print('mse ', mse_loss)\n",
    "print('loss found ', loss)"
   ]
  },
  {
   "cell_type": "code",
   "execution_count": 99,
   "metadata": {},
   "outputs": [],
   "source": [
    "OUTPUT_PATH = '../data/subsmission_file.csv' # TODO: fill in desired name of output file for submission\n",
    "y_pred = predict_labels(weights, tX_test)\n",
    "create_csv_submission(ids_test, y_pred, OUTPUT_PATH)"
   ]
  },
  {
   "cell_type": "code",
   "execution_count": null,
   "metadata": {
    "collapsed": true,
    "jupyter": {
     "outputs_hidden": true
    }
   },
   "outputs": [],
   "source": []
  }
 ],
 "metadata": {
  "anaconda-cloud": {},
  "kernelspec": {
   "display_name": "Python 3",
   "language": "python",
   "name": "python3"
  },
  "language_info": {
   "codemirror_mode": {
    "name": "ipython",
    "version": 3
   },
   "file_extension": ".py",
   "mimetype": "text/x-python",
   "name": "python",
   "nbconvert_exporter": "python",
   "pygments_lexer": "ipython3",
   "version": "3.7.3"
  }
 },
 "nbformat": 4,
 "nbformat_minor": 4
}
