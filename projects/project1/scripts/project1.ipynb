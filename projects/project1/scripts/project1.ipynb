{
 "cells": [
  {
   "cell_type": "code",
   "execution_count": 1,
   "metadata": {},
   "outputs": [],
   "source": [
    "# Useful starting lines\n",
    "%matplotlib inline\n",
    "import numpy as np\n",
    "import matplotlib.pyplot as plt\n",
    "from implementations import *\n",
    "%load_ext autoreload\n",
    "%autoreload 2"
   ]
  },
  {
   "cell_type": "markdown",
   "metadata": {},
   "source": [
    "## Load the training data into feature matrix, class labels, and event ids:"
   ]
  },
  {
   "cell_type": "code",
   "execution_count": 2,
   "metadata": {},
   "outputs": [],
   "source": [
    "from proj1_helpers import *\n",
    "DATA_TRAIN_PATH = '../data/train.csv' \n",
    "y, tX, ids = load_csv_data(DATA_TRAIN_PATH)\n",
    "\n",
    "DATA_TEST_PATH = '../data/test.csv'\n",
    "_, tX_test, ids_test = load_csv_data(DATA_TEST_PATH)"
   ]
  },
  {
   "cell_type": "markdown",
   "metadata": {},
   "source": [
    "### Exploratory data analysis"
   ]
  },
  {
   "cell_type": "markdown",
   "metadata": {},
   "source": [
    "By looking at our data we see there are some invalid values. To quantify them we look at the different features and compute the percentage of invalid values for each one of them."
   ]
  },
  {
   "cell_type": "code",
   "execution_count": 3,
   "metadata": {},
   "outputs": [
    {
     "name": "stdout",
     "output_type": "stream",
     "text": [
      "For the feature 1 : 15.245600000000001 % of missing values\n",
      "For the feature 5 : 70.9828 % of missing values\n",
      "For the feature 6 : 70.9828 % of missing values\n",
      "For the feature 7 : 70.9828 % of missing values\n",
      "For the feature 13 : 70.9828 % of missing values\n",
      "For the feature 24 : 39.9652 % of missing values\n",
      "For the feature 25 : 39.9652 % of missing values\n",
      "For the feature 26 : 39.9652 % of missing values\n",
      "For the feature 27 : 70.9828 % of missing values\n",
      "For the feature 28 : 70.9828 % of missing values\n",
      "For the feature 29 : 70.9828 % of missing values\n"
     ]
    }
   ],
   "source": [
    "def print_percentages(array):\n",
    "    for j in range(array.shape[1]):\n",
    "        count_col = 0\n",
    "        for i in range(array.shape[0]):\n",
    "            if array[i,j] == -999:\n",
    "                count_col += 1\n",
    "        count_col = (count_col/array.shape[0])*100\n",
    "        if (count_col > 0) : \n",
    "            print(f'For the feature {j+1} : {count_col} % of missing values')\n",
    "        \n",
    "print_percentages(tX)"
   ]
  },
  {
   "cell_type": "markdown",
   "metadata": {},
   "source": [
    "It also seems that some elements in feature 23 (PRI_jet_num) and 30 (PRI_jet_all_pt) have value 0 or 1 for elements with missing value"
   ]
  },
  {
   "cell_type": "code",
   "execution_count": 4,
   "metadata": {},
   "outputs": [
    {
     "name": "stdout",
     "output_type": "stream",
     "text": [
      "For the feature 23 : 70.9828 % of zero values\n",
      "For the feature 30 : 39.9652 % of zero values\n"
     ]
    }
   ],
   "source": [
    "zero_percentage_23 = (np.count_nonzero((tX[:, 22] == 1) | (tX[:, 22] == 0)) / tX.shape[0]) * 100\n",
    "zero_percentage_30 = (np.count_nonzero(tX[:, 29] == 0) / tX.shape[0]) * 100\n",
    "\n",
    "print(f'For the feature 23 : {zero_percentage_23} % of zero values')\n",
    "print(f'For the feature 30 : {zero_percentage_30} % of zero values')"
   ]
  },
  {
   "cell_type": "markdown",
   "metadata": {},
   "source": [
    "We notice that the elements seem to fit in four different categories. 15 % of our elements are missing values in the first feature, about 40% are missing values in features 24, 25, 26 and 30, and about 70% are missing values in features 5, 6, 7, 13, 23, 27, 28 and 29."
   ]
  },
  {
   "cell_type": "markdown",
   "metadata": {},
   "source": [
    "### Data pre-processing"
   ]
  },
  {
   "cell_type": "markdown",
   "metadata": {},
   "source": [
    "Because each of the different categories of elements will most likely affect the output in a different way, we choose to split our data in 4 sub-samples based on those categories to train a model for each of them separately."
   ]
  },
  {
   "cell_type": "code",
   "execution_count": 5,
   "metadata": {},
   "outputs": [],
   "source": [
    "def build_mask(tx) : \n",
    "    mask1 = tx[:, 0] == -999\n",
    "    mask2 = (tx[:, 23] == -999) & (tx[:, 0] != -999)\n",
    "    mask3 = (tx[:, 4] == -999) & (tx[:, 23] != -999) & (tx[:, 0] != -999)\n",
    "    mask4 = (tx[:, 4] != -999) & (tx[:, 23] != -999) & (tx[:, 0] != -999)\n",
    "    \n",
    "    return mask1, mask2, mask3, mask4\n",
    "\n",
    "def build_subsample(tx, mask) :\n",
    "    feature_mask = []\n",
    "    for j in range(tx.shape[1]):\n",
    "        if (j == 22) :\n",
    "            feature_mask.append(not ((0 in tx[mask][:,j]) | (1 in tx[mask][:,j])))\n",
    "        elif (j == 29) :\n",
    "            feature_mask.append(not ((0 in tx[mask][:,j])))\n",
    "        else :\n",
    "            feature_mask.append(not (-999 in tx[mask][:,j]))\n",
    "        \n",
    "    subsample = tx[mask][:, feature_mask]\n",
    "    \n",
    "    return subsample\n",
    "        \n",
    "def split_categories(tx) :\n",
    "    m1, m2, m3, m4  = build_mask(tx)\n",
    "    \n",
    "    s1 = build_subsample(tx, m1)\n",
    "    s2 = build_subsample(tx, m2)\n",
    "    s3 = build_subsample(tx, m3)\n",
    "    s4 = build_subsample(tx, m4)\n",
    "    \n",
    "    return s1, s2, s3, s4, m1, m2, m3, m4"
   ]
  },
  {
   "cell_type": "code",
   "execution_count": 6,
   "metadata": {},
   "outputs": [
    {
     "name": "stdout",
     "output_type": "stream",
     "text": [
      "Subsample x1 has  38114  elements,  17  features and no invalid values:  True\n",
      "Subsample x2 has  73790  elements,  18  features and no invalid values:  True\n",
      "Subsample x3 has  69982  elements,  22  features and no invalid values:  True\n",
      "Subsample x4 has  68114  elements,  30  features and no invalid values:  True\n"
     ]
    }
   ],
   "source": [
    "x1, x2, x3, x4, mask1, mask2, mask3, mask4 = split_categories(tX)\n",
    "print(\"Subsample x1 has \", x1.shape[0], \" elements, \", x1.shape[1], \" features and no invalid values: \", (not(-999 in x1)))\n",
    "print(\"Subsample x2 has \", x2.shape[0], \" elements, \", x2.shape[1], \" features and no invalid values: \", (not(-999 in x2)))\n",
    "print(\"Subsample x3 has \", x3.shape[0], \" elements, \", x3.shape[1], \" features and no invalid values: \", (not(-999 in x3)))\n",
    "print(\"Subsample x4 has \", x4.shape[0], \" elements, \", x4.shape[1], \" features and no invalid values: \", (not(-999 in x4)))"
   ]
  },
  {
   "cell_type": "code",
   "execution_count": 7,
   "metadata": {},
   "outputs": [],
   "source": [
    "x1_test, x2_test, x3_test, x4_test, mask1_test, mask2_test, mask3_test, mask4_test = split_categories(tX_test)"
   ]
  },
  {
   "cell_type": "markdown",
   "metadata": {},
   "source": [
    "To process our data we choose to normalize it, i.e transforming all values to be between 0 and 1. This allows for a more homogeneous dataset and avoids large values that could result in overflow or other issues"
   ]
  },
  {
   "cell_type": "code",
   "execution_count": 8,
   "metadata": {},
   "outputs": [],
   "source": [
    "#normalize the matrix\n",
    "def normalize(tx, tx_test) :\n",
    "    tx_normalized = tx.copy()\n",
    "    tx_test_normalized = tx_test.copy()\n",
    "    for index, feature in enumerate(tx_normalized.T) :\n",
    "        diff = np.amax(feature) - np.amin(feature)\n",
    "        normalized_feature = (feature - np.amin(feature))/diff\n",
    "        normalized_test_feature = (tx_test_normalized.T[index] - np.amin(feature))/diff\n",
    "        standardized_feature = (feature-feature.mean())/feature.std()\n",
    "        if ((diff != 0) & (diff != 1)) : #avoids normalizing categorical features resulting in singular matrices\n",
    "            feature[:] = normalized_feature\n",
    "            tx_test_normalized.T[index, :] = normalized_test_feature\n",
    "    return tx_normalized, tx_test_normalized"
   ]
  },
  {
   "cell_type": "code",
   "execution_count": 9,
   "metadata": {},
   "outputs": [],
   "source": [
    "x1_normalized, x1_test_normalized = normalize(x1, x1_test)\n",
    "x2_normalized, x2_test_normalized = normalize(x2, x2_test)\n",
    "x3_normalized, x3_test_normalized = normalize(x3, x3_test)\n",
    "x4_normalized, x4_test_normalized = normalize(x4, x4_test)"
   ]
  },
  {
   "cell_type": "code",
   "execution_count": 10,
   "metadata": {},
   "outputs": [],
   "source": [
    "masks_test = np.array([mask1_test, mask2_test, mask3_test, mask4_test])\n",
    "\n",
    "masks = np.array([mask1, mask2, mask3, mask4])\n",
    "X = np.array([x1, x2, x3, x4])\n",
    "X_normalized = np.array([x1_normalized, x2_normalized, x3_normalized, x4_normalized])"
   ]
  },
  {
   "cell_type": "code",
   "execution_count": 11,
   "metadata": {
    "jupyter": {
     "source_hidden": true
    }
   },
   "outputs": [],
   "source": [
    "# standardize the matrix \n",
    "def standardize(tX, normalized = False) :\n",
    "    tX_standardized = tX.copy()\n",
    "    for feature in tX_standardized.T : \n",
    "        mask = (feature != -999)\n",
    "        i_mask = (feature == -999)\n",
    "        feature[i_mask] = feature[mask].mean() # replace undetermined value by mean of other values in the feature column\n",
    "        feature[:] = (feature-feature.mean())/feature.std() # standardize\n",
    "        if normalized :\n",
    "            feature[:] = (feature - np.amin(feature))/(np.amax(feature) - np.amin(feature)) # normalize\n",
    "    tX_standardized.T[22] = tX.T[22] # Avoid standardization on categorical feature\n",
    "    tX_standardized = np.delete(tX_standardized, 7343, 0) #remove outlier\n",
    "    # tX_standardized = np.c_[tX_standardized, np.ones((tX_standardized.shape[0], 1))] # Add row of ones for better regression\n",
    "    return tX_standardized"
   ]
  },
  {
   "cell_type": "markdown",
   "metadata": {},
   "source": [
    "### Features cleaning\n",
    "We don't need that, keeping just in case"
   ]
  },
  {
   "cell_type": "markdown",
   "metadata": {
    "jupyter": {
     "source_hidden": true
    }
   },
   "source": [
    "Even after standardizing our data we might not want certain columns or rows. For this reason we create some masks to apply to our dataset that could improve accuracy"
   ]
  },
  {
   "cell_type": "code",
   "execution_count": 12,
   "metadata": {
    "jupyter": {
     "source_hidden": true
    }
   },
   "outputs": [
    {
     "ename": "NameError",
     "evalue": "name 'tX_standardized_af' is not defined",
     "output_type": "error",
     "traceback": [
      "\u001b[1;31m---------------------------------------------------------------------------\u001b[0m",
      "\u001b[1;31mNameError\u001b[0m                                 Traceback (most recent call last)",
      "\u001b[1;32m<ipython-input-12-d070acfd4428>\u001b[0m in \u001b[0;36m<module>\u001b[1;34m\u001b[0m\n\u001b[0;32m      1\u001b[0m \u001b[0mmask_dict\u001b[0m \u001b[1;33m=\u001b[0m \u001b[1;33m{\u001b[0m\u001b[1;33m}\u001b[0m\u001b[1;33m\u001b[0m\u001b[1;33m\u001b[0m\u001b[0m\n\u001b[1;32m----> 2\u001b[1;33m \u001b[0mno_mask\u001b[0m \u001b[1;33m=\u001b[0m \u001b[0mnp\u001b[0m\u001b[1;33m.\u001b[0m\u001b[0mfull\u001b[0m\u001b[1;33m(\u001b[0m\u001b[0mtX_standardized_af\u001b[0m\u001b[1;33m.\u001b[0m\u001b[0mshape\u001b[0m\u001b[1;33m[\u001b[0m\u001b[1;36m1\u001b[0m\u001b[1;33m]\u001b[0m\u001b[1;33m,\u001b[0m \u001b[1;32mTrue\u001b[0m\u001b[1;33m)\u001b[0m\u001b[1;33m\u001b[0m\u001b[1;33m\u001b[0m\u001b[0m\n\u001b[0m\u001b[0;32m      3\u001b[0m \u001b[1;31m# no_mask[30] = False\u001b[0m\u001b[1;33m\u001b[0m\u001b[1;33m\u001b[0m\u001b[1;33m\u001b[0m\u001b[0m\n\u001b[0;32m      4\u001b[0m \u001b[0mmask_dict\u001b[0m\u001b[1;33m[\u001b[0m\u001b[1;34m\"no_mask\"\u001b[0m\u001b[1;33m]\u001b[0m \u001b[1;33m=\u001b[0m \u001b[0mno_mask\u001b[0m\u001b[1;33m\u001b[0m\u001b[1;33m\u001b[0m\u001b[0m\n",
      "\u001b[1;31mNameError\u001b[0m: name 'tX_standardized_af' is not defined"
     ]
    }
   ],
   "source": [
    "mask_dict = {}\n",
    "no_mask = np.full(tX_standardized_af.shape[1], True)\n",
    "# no_mask[30] = False\n",
    "mask_dict[\"no_mask\"] = no_mask"
   ]
  },
  {
   "cell_type": "code",
   "execution_count": 12,
   "metadata": {
    "jupyter": {
     "source_hidden": true
    }
   },
   "outputs": [
    {
     "ename": "NameError",
     "evalue": "name 'mask_dict' is not defined",
     "output_type": "error",
     "traceback": [
      "\u001b[1;31m---------------------------------------------------------------------------\u001b[0m",
      "\u001b[1;31mNameError\u001b[0m                                 Traceback (most recent call last)",
      "\u001b[1;32m<ipython-input-12-aefa4dd42b21>\u001b[0m in \u001b[0;36m<module>\u001b[1;34m\u001b[0m\n\u001b[0;32m      5\u001b[0m \u001b[1;31m# remove_na_mask.append(False) # for 1 column\u001b[0m\u001b[1;33m\u001b[0m\u001b[1;33m\u001b[0m\u001b[1;33m\u001b[0m\u001b[0m\n\u001b[0;32m      6\u001b[0m \u001b[1;33m\u001b[0m\u001b[0m\n\u001b[1;32m----> 7\u001b[1;33m \u001b[0mmask_dict\u001b[0m\u001b[1;33m[\u001b[0m\u001b[1;34m\"remove_na_mask\"\u001b[0m\u001b[1;33m]\u001b[0m \u001b[1;33m=\u001b[0m \u001b[0mremove_na_mask\u001b[0m\u001b[1;33m\u001b[0m\u001b[1;33m\u001b[0m\u001b[0m\n\u001b[0m",
      "\u001b[1;31mNameError\u001b[0m: name 'mask_dict' is not defined"
     ]
    }
   ],
   "source": [
    "# Create mask removing columns with unvalid data\n",
    "remove_na_mask = []\n",
    "for j in range(tX.shape[1]):\n",
    "    remove_na_mask.append(not (-999 in tX[:,j]))\n",
    "# remove_na_mask.append(False) # for 1 column\n",
    "\n",
    "mask_dict[\"remove_na_mask\"] = remove_na_mask"
   ]
  },
  {
   "cell_type": "code",
   "execution_count": null,
   "metadata": {
    "jupyter": {
     "source_hidden": true
    }
   },
   "outputs": [],
   "source": [
    "# Create mask removing columns with unvalid data except the first one because it has only 15% on error\n",
    "remove_error_mask = []\n",
    "for j in range(tX.shape[1]):\n",
    "    remove_error_mask.append(not (-999 in tX[:,j]))\n",
    "remove_error_mask[0] = True\n",
    "# remove_error_mask.append(False) # for 1 column\n",
    "\n",
    "mask_dict[\"remove_error_mask\"] = remove_error_mask"
   ]
  },
  {
   "cell_type": "markdown",
   "metadata": {
    "jupyter": {
     "source_hidden": true
    }
   },
   "source": [
    "We notice some features do not have invalid data but do have a 0 value for almost every row containing some invalid data. We create a mask removing all of them in case it offers better accuracy on our methods."
   ]
  },
  {
   "cell_type": "code",
   "execution_count": null,
   "metadata": {
    "jupyter": {
     "source_hidden": true
    }
   },
   "outputs": [],
   "source": [
    "# Create mask removing all columns with unvalid or 0 data\n",
    "remove_all_mask = []\n",
    "for j in range(tX.shape[1]):\n",
    "    remove_all_mask.append(not (-999 in tX[:,j]))\n",
    "remove_all_mask[29] = False\n",
    "remove_all_mask[22] = False\n",
    "# remove_all_mask.append(False)\n",
    "\n",
    "mask_dict[\"remove_all_mask\"] = remove_all_mask"
   ]
  },
  {
   "cell_type": "markdown",
   "metadata": {
    "jupyter": {
     "source_hidden": true
    }
   },
   "source": [
    "We now want to create a mask selecting only the features bringing the most information about y. To do so we calculate the correlation of each of the features with y and select only the ones with best correlation."
   ]
  },
  {
   "cell_type": "code",
   "execution_count": 16,
   "metadata": {
    "jupyter": {
     "outputs_hidden": true,
     "source_hidden": true
    }
   },
   "outputs": [
    {
     "ename": "NameError",
     "evalue": "name 'tX_standardized_af' is not defined",
     "output_type": "error",
     "traceback": [
      "\u001b[1;31m---------------------------------------------------------------------------\u001b[0m",
      "\u001b[1;31mNameError\u001b[0m                                 Traceback (most recent call last)",
      "\u001b[1;32m<ipython-input-16-81d451f5274f>\u001b[0m in \u001b[0;36m<module>\u001b[1;34m\u001b[0m\n\u001b[0;32m      1\u001b[0m \u001b[1;31m# Sort features based on their correlation with y\u001b[0m\u001b[1;33m\u001b[0m\u001b[1;33m\u001b[0m\u001b[1;33m\u001b[0m\u001b[0m\n\u001b[1;32m----> 2\u001b[1;33m \u001b[0mcorrelations\u001b[0m \u001b[1;33m=\u001b[0m \u001b[0mnp\u001b[0m\u001b[1;33m.\u001b[0m\u001b[0mzeros\u001b[0m\u001b[1;33m(\u001b[0m\u001b[0mtX_standardized_af\u001b[0m\u001b[1;33m.\u001b[0m\u001b[0mshape\u001b[0m\u001b[1;33m[\u001b[0m\u001b[1;36m1\u001b[0m\u001b[1;33m]\u001b[0m \u001b[1;33m-\u001b[0m \u001b[1;36m1\u001b[0m\u001b[1;33m)\u001b[0m\u001b[1;33m\u001b[0m\u001b[1;33m\u001b[0m\u001b[0m\n\u001b[0m\u001b[0;32m      3\u001b[0m \u001b[1;32mfor\u001b[0m \u001b[0mi\u001b[0m \u001b[1;32min\u001b[0m \u001b[0mrange\u001b[0m\u001b[1;33m(\u001b[0m\u001b[0mlen\u001b[0m\u001b[1;33m(\u001b[0m\u001b[0mcorrelations\u001b[0m\u001b[1;33m)\u001b[0m\u001b[1;33m)\u001b[0m \u001b[1;33m:\u001b[0m\u001b[1;33m\u001b[0m\u001b[1;33m\u001b[0m\u001b[0m\n\u001b[0;32m      4\u001b[0m     \u001b[0mcorrelations\u001b[0m\u001b[1;33m[\u001b[0m\u001b[0mi\u001b[0m\u001b[1;33m]\u001b[0m \u001b[1;33m=\u001b[0m \u001b[0mnp\u001b[0m\u001b[1;33m.\u001b[0m\u001b[0mcorrcoef\u001b[0m\u001b[1;33m(\u001b[0m\u001b[0my\u001b[0m\u001b[1;33m,\u001b[0m \u001b[0mtX_standardized_af\u001b[0m\u001b[1;33m.\u001b[0m\u001b[0mT\u001b[0m\u001b[1;33m[\u001b[0m\u001b[0mi\u001b[0m\u001b[1;33m]\u001b[0m\u001b[1;33m)\u001b[0m\u001b[1;33m[\u001b[0m\u001b[1;36m0\u001b[0m\u001b[1;33m]\u001b[0m\u001b[1;33m[\u001b[0m\u001b[1;36m1\u001b[0m\u001b[1;33m]\u001b[0m\u001b[1;33m\u001b[0m\u001b[1;33m\u001b[0m\u001b[0m\n\u001b[0;32m      5\u001b[0m \u001b[0msorted_features_correlations\u001b[0m \u001b[1;33m=\u001b[0m \u001b[0mnp\u001b[0m\u001b[1;33m.\u001b[0m\u001b[0marray\u001b[0m\u001b[1;33m(\u001b[0m\u001b[0msorted\u001b[0m\u001b[1;33m(\u001b[0m\u001b[0mlist\u001b[0m\u001b[1;33m(\u001b[0m\u001b[0menumerate\u001b[0m\u001b[1;33m(\u001b[0m\u001b[0mcorrelations\u001b[0m\u001b[1;33m)\u001b[0m\u001b[1;33m)\u001b[0m\u001b[1;33m,\u001b[0m \u001b[0mkey\u001b[0m\u001b[1;33m=\u001b[0m\u001b[1;32mlambda\u001b[0m \u001b[0mx\u001b[0m\u001b[1;33m:\u001b[0m \u001b[1;33m-\u001b[0m\u001b[0mnp\u001b[0m\u001b[1;33m.\u001b[0m\u001b[0mabs\u001b[0m\u001b[1;33m(\u001b[0m\u001b[0mx\u001b[0m\u001b[1;33m[\u001b[0m\u001b[1;36m1\u001b[0m\u001b[1;33m]\u001b[0m\u001b[1;33m)\u001b[0m\u001b[1;33m)\u001b[0m\u001b[1;33m)\u001b[0m\u001b[1;33m\u001b[0m\u001b[1;33m\u001b[0m\u001b[0m\n",
      "\u001b[1;31mNameError\u001b[0m: name 'tX_standardized_af' is not defined"
     ]
    }
   ],
   "source": [
    "# Sort features based on their correlation with y\n",
    "correlations = np.zeros(tX_standardized_af.shape[1] - 1)\n",
    "for i in range(len(correlations)) :\n",
    "    correlations[i] = np.corrcoef(y, tX_standardized_af.T[i])[0][1]\n",
    "sorted_features_correlations = np.array(sorted(list(enumerate(correlations)), key=lambda x: -np.abs(x[1])))\n",
    "sorted_features_indexes = np.array(sorted_features[:, 0], dtype = int)"
   ]
  },
  {
   "cell_type": "code",
   "execution_count": 17,
   "metadata": {
    "jupyter": {
     "outputs_hidden": true,
     "source_hidden": true
    }
   },
   "outputs": [
    {
     "ename": "NameError",
     "evalue": "name 'sorted_features_indexes' is not defined",
     "output_type": "error",
     "traceback": [
      "\u001b[1;31m---------------------------------------------------------------------------\u001b[0m",
      "\u001b[1;31mNameError\u001b[0m                                 Traceback (most recent call last)",
      "\u001b[1;32m<ipython-input-17-d2d6635d773a>\u001b[0m in \u001b[0;36m<module>\u001b[1;34m\u001b[0m\n\u001b[0;32m      1\u001b[0m \u001b[1;31m# Create a mask based on the n features with best correlation with y\u001b[0m\u001b[1;33m\u001b[0m\u001b[1;33m\u001b[0m\u001b[1;33m\u001b[0m\u001b[0m\n\u001b[0;32m      2\u001b[0m \u001b[0mn\u001b[0m \u001b[1;33m=\u001b[0m \u001b[1;36m15\u001b[0m\u001b[1;33m\u001b[0m\u001b[1;33m\u001b[0m\u001b[0m\n\u001b[1;32m----> 3\u001b[1;33m \u001b[0mbest_corr_mask\u001b[0m \u001b[1;33m=\u001b[0m \u001b[0msorted\u001b[0m\u001b[1;33m(\u001b[0m\u001b[0msorted_features_indexes\u001b[0m\u001b[1;33m[\u001b[0m\u001b[1;33m:\u001b[0m\u001b[0mn\u001b[0m\u001b[1;33m]\u001b[0m\u001b[1;33m)\u001b[0m\u001b[1;33m\u001b[0m\u001b[1;33m\u001b[0m\u001b[0m\n\u001b[0m\u001b[0;32m      4\u001b[0m \u001b[1;33m\u001b[0m\u001b[0m\n\u001b[0;32m      5\u001b[0m \u001b[1;33m\u001b[0m\u001b[0m\n",
      "\u001b[1;31mNameError\u001b[0m: name 'sorted_features_indexes' is not defined"
     ]
    }
   ],
   "source": [
    "# Create a mask based on the n features with best correlation with y\n",
    "n = 15\n",
    "best_corr_mask = sorted(sorted_features_indexes[:n])\n",
    "\n",
    "\n",
    "mask_dict[\"best_corr_mask\"] = best_corr_mask \n",
    "best_corr_mask"
   ]
  },
  {
   "cell_type": "code",
   "execution_count": 18,
   "metadata": {
    "jupyter": {
     "source_hidden": true
    }
   },
   "outputs": [],
   "source": [
    "# for i, feature in enumerate(tX_standardized.T) :\n",
    "#    print(\"Feature \" , i+1)\n",
    "#    plt.plot(feature[:1000], y[:1000], 'kp', alpha = 0.006)\n",
    "#    plt.show()"
   ]
  },
  {
   "cell_type": "markdown",
   "metadata": {},
   "source": [
    "### Useful functions"
   ]
  },
  {
   "cell_type": "code",
   "execution_count": 27,
   "metadata": {},
   "outputs": [],
   "source": [
    "''' Calculate accuracy of model'''\n",
    "def accuracy_function(weights, x, y) :\n",
    "    y_pred = predict_labels(weights, x)\n",
    "    return np.count_nonzero(y == y_pred) / (y.shape[0])"
   ]
  },
  {
   "cell_type": "code",
   "execution_count": 28,
   "metadata": {},
   "outputs": [],
   "source": [
    "''' Compute the overall accuracy when the dataset has been divided into categories '''\n",
    "def total_accuracy(weights, x, y, masks) :\n",
    "    total_count = 0\n",
    "    for i in range(weights.shape[0]) :\n",
    "        y_pred = predict_labels(weights[i], x[i])\n",
    "        total_count += np.count_nonzero(y[masks[i]] == y_pred)\n",
    "    return total_count / (y.shape[0])"
   ]
  },
  {
   "cell_type": "code",
   "execution_count": 29,
   "metadata": {},
   "outputs": [],
   "source": [
    "''' Create a dictionary which enable to compute the different methods in a modularized way '''\n",
    "methods = {\n",
    "    \"least_squares_GD\" : (lambda y, tx, lambda_, initial_w, max_iters, gamma: least_squares_GD(y, tx, initial_w, max_iters, gamma)),\n",
    "    \"least_squares_SGD\" : (lambda y, tx, lambda_, initial_w, max_iters, gamma: least_squares_SGD(y, tx, initial_w, max_iters, gamma)),\n",
    "    \"least_squares\": (lambda y, tx, lambda_, initial_w, max_iters, gamma: least_squares(y, tx)),\n",
    "    \"ridge_regression\" : (lambda y, tx, lambda_, initial_w, max_iters, gamma: ridge_regression(y, tx, lambda_)),\n",
    "    \"logistic_regression\" : (lambda y, tx, lambda_, initial_w, max_iters, gamma: logistic_regression(y, tx, initial_w, max_iters, gamma)),\n",
    "    \"reg_logistic_regression\" : (lambda y, tx, lambda_, initial_w, max_iters, gamma: reg_logistic_regression(y, tx, lambda_, initial_w, max_iters, gamma))   \n",
    "}"
   ]
  },
  {
   "cell_type": "code",
   "execution_count": 30,
   "metadata": {},
   "outputs": [],
   "source": [
    "\"\"\" Build k indices for k-fold \"\"\"\n",
    "def build_k_indices(y, k_fold, seed):\n",
    "    \"\"\"build k indices for k-fold.\"\"\"\n",
    "    num_row = y.shape[0]\n",
    "    interval = int(num_row / k_fold)\n",
    "    np.random.seed(seed)\n",
    "    indices = np.random.permutation(num_row)\n",
    "    k_indices = [indices[k * interval: (k + 1) * interval]\n",
    "                 for k in range(k_fold)]\n",
    "    return np.array(k_indices)\n",
    "\n",
    "\n",
    "''' \n",
    "Doing k-fold cross validation for the parameter(s) entered.\n",
    "Return the average accuracy obtained for the training and testing set\n",
    "'''\n",
    "def cross_validation(k_fold, method, y, tx,  degree = 1, lambda_ = 0, max_iters = 1, gamma = 0, cross = False):\n",
    "    \n",
    "    # define lists to store the accuracy of training data and test data for the given parameter\n",
    "    acc_tr_param = []\n",
    "    acc_te_param = []\n",
    "    \n",
    "    # split data in k fold\n",
    "    k_indices = build_k_indices(y, k_fold, seed = 2)\n",
    "    # feature expansion\n",
    "    if cross:\n",
    "        tx_poly = build_all(tx, degree)\n",
    "    else:\n",
    "        tx_poly = build_multi_poly(tx, degree)\n",
    "\n",
    "    initial_w = np.zeros(tx_poly.shape[1])\n",
    "    \n",
    "    for k in range(k_fold):\n",
    "        \n",
    "        te_indice = k_indices[k]\n",
    "        tr_indice = np.delete(k_indices, k, 0)\n",
    "        tr_indice = np.ndarray.flatten(tr_indice)\n",
    "\n",
    "        tr_x = tx_poly[tr_indice]\n",
    "        tr_y = y[tr_indice]\n",
    "        te_x = tx_poly[te_indice]\n",
    "        te_y = y[te_indice]\n",
    "        \n",
    "        # method call\n",
    "        w, loss = method(tr_y, tr_x, lambda_, initial_w, max_iters, gamma)\n",
    "\n",
    "        acc_tr_param.append(accuracy_function(w, tr_x, tr_y))\n",
    "        acc_te_param.append(accuracy_function(w, te_x, te_y))\n",
    "    \n",
    "    return np.mean(acc_tr_param), np.mean(acc_te_param)"
   ]
  },
  {
   "cell_type": "code",
   "execution_count": 31,
   "metadata": {},
   "outputs": [],
   "source": [
    "'''\n",
    "Determine the optimal parameter(s) for the given method. Putting default values for the different parameters enable \n",
    "to call determine_parameter for every method.\n",
    "method is the function that compute the weights and the loss.\n",
    "Return the optimal parameters: degree, lambda, gamma (if only a subset of the parameters is used, consider only \n",
    "the wanted parameters and others are just default values)\n",
    "'''\n",
    "def determine_parameter(method, tx, y, cross, degrees = [1], lambdas = [0], gammas = [0], k_fold = 4, max_iters = 1, name = 'x'):\n",
    "    \n",
    "    # define a matrix to store the accuracy of training data and test data\n",
    "    acc_tr_matrix = np.zeros(shape = (len(degrees), len(lambdas), len(gammas)))\n",
    "    acc_te_matrix = np.zeros(shape = (len(degrees), len(lambdas), len(gammas)))\n",
    "    initial_w = np.zeros(tx.shape[1])\n",
    "    for h, degree in enumerate(degrees) :\n",
    "        for i, lambda_ in enumerate(lambdas) :\n",
    "            for j, gamma in enumerate(gammas) :\n",
    "                acc_tr_matrix[h, i, j], acc_te_matrix[h, i, j] = cross_validation(k_fold, method, y, tx,  degree, lambda_, max_iters, gamma, cross)\n",
    "    \n",
    "    # find the indices of the maximum accuracy in 'acc_te_matrix'\n",
    "    max_acc_index = np.unravel_index(acc_te_matrix.argmax(), acc_te_matrix.shape)\n",
    "     # maximum accuracy in 'acc_te_matrix'\n",
    "    max_acc = acc_te_matrix[max_acc_index]\n",
    "    \n",
    "    # optimal parameters\n",
    "    degree = degrees[max_acc_index[0]]\n",
    "    lambda_ = lambdas[max_acc_index[1]]\n",
    "    gamma = gammas[max_acc_index[2]]\n",
    "    \n",
    "    # Plot only the wanted parameter(s) in function of the accuracy.\n",
    "    # When plotting a specific parameter others parameters are optimal.\n",
    "    if len(degrees) > 1:\n",
    "        if (lambda_ != 0) : print(\"Lambda = \", lambda_)\n",
    "        if (gamma != 0) : print(\"Gamma = \", gamma)\n",
    "        title = 'Optimal degree for ' + name\n",
    "        degree_plot = plot_train_test(acc_tr_matrix[:, max_acc_index[1], max_acc_index[2]], acc_te_matrix[:, max_acc_index[1], max_acc_index[2]], degrees, title, 'degree')\n",
    "        print(\"Optimal degree :\", degree, '\\n')\n",
    "    if len(lambdas) > 1:\n",
    "        if (degree != 1) : print(\"Degree = \", degree)\n",
    "        if (gamma != 0) : print(\"Gamma = \", gamma)\n",
    "        title = 'Optimal lambda for ' + name\n",
    "        lambdas_plot = plot_train_test(acc_tr_matrix[max_acc_index[0], :, max_acc_index[2]], acc_te_matrix[max_acc_index[0], :, max_acc_index[2]], lambdas, title, 'lambda', log = True)\n",
    "        print(\"Optimal lambda :\", lambda_, '\\n')\n",
    "    if len(gammas) > 1:\n",
    "        if (degree != 1) : print(\"Degree = \", degree)\n",
    "        if (lambda_ != 0) : print(\"Lambda = \", lambda_)\n",
    "        title = 'Optimal gamma for ' + name\n",
    "        gammas_plot = plot_train_test(acc_tr_matrix[max_acc_index[0], max_acc_index[1], :], acc_te_matrix[max_acc_index[0], max_acc_index[1], :], gammas, title, 'gamma', log = True)\n",
    "        print(\"Optimal gamma :\", gamma, '\\n')\n",
    "    print(\"Max accuracy :\", max_acc)\n",
    "    \n",
    "    return degree, lambda_, gamma"
   ]
  },
  {
   "cell_type": "code",
   "execution_count": 32,
   "metadata": {},
   "outputs": [],
   "source": [
    "'''\n",
    "Generate the optimal parameters that enable to train the model into the whole dataset and to have the optimal \n",
    "weights.\n",
    "X: categorized dataset(X[0] represent the first category)\n",
    "\n",
    "Return all useful information of the model: optimal weights for each category, dataset \n",
    "matrix with feature expansion for each category, optimal parameters and the accuracy.\n",
    "'''\n",
    "def analyze_method(method, X, y, masks, degrees = [1], lambdas = [0], gammas = [0], max_iters = 1, k_fold = 4, name = \"x\", cross = False) :\n",
    "    optimal_degree = np.zeros(X.shape[0], dtype = int)\n",
    "    optimal_lambda = np.zeros(X.shape[0])\n",
    "    optimal_gamma = np.zeros(X.shape[0])\n",
    "    # expansion features of the dataset with the optimal degree.\n",
    "    X_poly = []\n",
    "    # weights \n",
    "    W = []\n",
    "    # loss\n",
    "    L = []\n",
    "    \n",
    "    # for each catagory fill in W and L.\n",
    "    for i in range(X.shape[0]) :\n",
    "        temp_name = name + str(i+1)\n",
    "        optimal_degree[i], optimal_lambda[i], optimal_gamma[i] = determine_parameter(method, X[i], y[masks[i]], cross, degrees = degrees, lambdas = lambdas, gammas = gammas, max_iters = max_iters, k_fold = k_fold, name = temp_name)\n",
    "        X_poly.append(build_multi_poly(X[i], optimal_degree[i]))\n",
    "        initial_w = np.zeros(X_poly[i].shape[1])\n",
    "        w_temp, l_temp = method(y[masks[i]], X_poly[i], optimal_lambda[i], initial_w, max_iters, optimal_gamma[i])\n",
    "        W.append(w_temp)\n",
    "        L.append(l_temp)\n",
    "    X_poly = np.array([X_poly[0], X_poly[1], X_poly[2], X_poly[3]])\n",
    "    W = np.array([W[0], W[1], W[2], W[3]])\n",
    "    L = np.array([L[0], W[1], W[2], W[3]])\n",
    "    \n",
    "    \n",
    "    accuracy = total_accuracy(W, X_poly, y, masks)\n",
    "    print(\"Accuracy with optimal parameters is :\", accuracy * 100, '%')\n",
    "    \n",
    "    return W, X_poly, optimal_degree, optimal_lambda, optimal_gamma, accuracy"
   ]
  },
  {
   "cell_type": "markdown",
   "metadata": {},
   "source": [
    "### Ridge regression with polynomial expansion on features (cross)"
   ]
  },
  {
   "cell_type": "code",
   "execution_count": null,
   "metadata": {},
   "outputs": [
    {
     "name": "stdout",
     "output_type": "stream",
     "text": [
      "Lambda =  1e-15\n"
     ]
    },
    {
     "data": {
      "image/png": "[encoded data removed]",
      "text/plain": [
       "<Figure size 432x288 with 1 Axes>"
      ]
     },
     "metadata": {
      "needs_background": "light"
     },
     "output_type": "display_data"
    },
    {
     "name": "stdout",
     "output_type": "stream",
     "text": [
      "Optimal degree : 9 \n",
      "\n",
      "Degree =  9\n"
     ]
    },
    {
     "data": {
      "image/png": "[encoded data removed]",
      "text/plain": [
       "<Figure size 432x288 with 1 Axes>"
      ]
     },
     "metadata": {
      "needs_background": "light"
     },
     "output_type": "display_data"
    },
    {
     "name": "stdout",
     "output_type": "stream",
     "text": [
      "Optimal lambda : 1e-15 \n",
      "\n",
      "Max accuracy : 0.9367128463476071\n",
      "Lambda =  1.584893192461111e-12\n"
     ]
    },
    {
     "data": {
      "image/png": "[encoded data removed]",
      "text/plain": [
       "<Figure size 432x288 with 1 Axes>"
      ]
     },
     "metadata": {
      "needs_background": "light"
     },
     "output_type": "display_data"
    },
    {
     "name": "stdout",
     "output_type": "stream",
     "text": [
      "Optimal degree : 10 \n",
      "\n",
      "Degree =  10\n"
     ]
    },
    {
     "data": {
      "image/png": "[encoded data removed]",
      "text/plain": [
       "<Figure size 432x288 with 1 Axes>"
      ]
     },
     "metadata": {
      "needs_background": "light"
     },
     "output_type": "display_data"
    },
    {
     "name": "stdout",
     "output_type": "stream",
     "text": [
      "Optimal lambda : 1.584893192461111e-12 \n",
      "\n",
      "Max accuracy : 0.8075838889792377\n"
     ]
    }
   ],
   "source": [
    "W, X_poly, optimal_degree, optimal_lambda, optimal_gamma, accuracy = analyze_method(methods[\"ridge_regression\"], X_normalized, y, masks, cross = True, degrees = np.arange(9, 11),lambdas = np.logspace(-15, -7, 6), name = \"category \")"
   ]
  },
  {
   "cell_type": "markdown",
   "metadata": {},
   "source": [
    "### Least square with polynomial expansion on features"
   ]
  },
  {
   "cell_type": "code",
   "execution_count": null,
   "metadata": {
    "scrolled": true
   },
   "outputs": [],
   "source": [
    "W, X_poly, optimal_degree, optimal_lambda, optimal_gamma, accuracy = analyze_method(methods[\"least_squares\"], X_normalized, y, masks, degrees = np.arange(2, 11), name = \"category \")"
   ]
  },
  {
   "cell_type": "markdown",
   "metadata": {},
   "source": [
    "### Least square with polynomial expansion on features (cross)"
   ]
  },
  {
   "cell_type": "code",
   "execution_count": null,
   "metadata": {},
   "outputs": [],
   "source": [
    "W, X_poly, optimal_degree, optimal_lambda, optimal_gamma, accuracy = analyze_method(methods[\"least_squares\"], X_normalized, y, masks, degrees = np.arange(2, 11), name = \"category \", cross = True)"
   ]
  },
  {
   "cell_type": "markdown",
   "metadata": {},
   "source": [
    "### Least square gradient with polynomial expansion on features "
   ]
  },
  {
   "cell_type": "code",
   "execution_count": null,
   "metadata": {},
   "outputs": [],
   "source": [
    "W, X_poly, optimal_degree, optimal_lambda, optimal_gamma, accuracy = analyze_method(methods[\"least_squares_GD\"], X_normalized, y, masks, degrees = np.arange(5, 11), gammas = np.logspace(-10, -0.5, 6), max_iters = 10, name = \"category \")"
   ]
  },
  {
   "cell_type": "markdown",
   "metadata": {},
   "source": [
    "### Least square gradient with polynomial expansion on features (cross)"
   ]
  },
  {
   "cell_type": "code",
   "execution_count": null,
   "metadata": {},
   "outputs": [],
   "source": [
    "W, X_poly, optimal_degree, optimal_lambda, optimal_gamma, accuracy = analyze_method(methods[\"least_squares_GD\"], X_normalized, y, masks, cross= True, degrees = np.arange(5, 11), gammas = np.logspace(-10, -0.5, 6), max_iters = 10, name = \"category \")"
   ]
  },
  {
   "cell_type": "markdown",
   "metadata": {},
   "source": [
    "### Ridge regression with polynomial expansion on features"
   ]
  },
  {
   "cell_type": "code",
   "execution_count": null,
   "metadata": {},
   "outputs": [],
   "source": [
    "W, X_poly, optimal_degree, optimal_lambda, optimal_gamma, accuracy = analyze_method(methods[\"ridge_regression\"], X_normalized, y, masks, degrees = np.arange(5, 11),lambdas = np.logspace(-15, -7, 6), name = \"category \")"
   ]
  },
  {
   "cell_type": "markdown",
   "metadata": {},
   "source": [
    "### Logistic regression with polynomial expansion on features"
   ]
  },
  {
   "cell_type": "code",
   "execution_count": null,
   "metadata": {},
   "outputs": [],
   "source": [
    "W, X_poly, optimal_degree, optimal_lambda, optimal_gamma, accuracy = analyze_method(methods[\"logistic_regression\"], X_normalized, y, masks, degrees = np.arange(5, 9),gammas = np.logspace(-10, -0.2, 4), max_iters = 50, name = \"category \")"
   ]
  },
  {
   "cell_type": "markdown",
   "metadata": {},
   "source": [
    "### Logistic regression with polynomial expansion on features (cross)"
   ]
  },
  {
   "cell_type": "code",
   "execution_count": null,
   "metadata": {},
   "outputs": [],
   "source": [
    "W, X_poly, optimal_degree, optimal_lambda, optimal_gamma, accuracy = analyze_method(methods[\"logistic_regression\"], X_normalized, y, masks, degrees = np.arange(5, 9), gammas = np.logspace(-10, -0.2, 4), cross = True, max_iters = 50, name = \"category \")"
   ]
  },
  {
   "cell_type": "markdown",
   "metadata": {},
   "source": [
    "### Linear SGD with polynomial expansion on features (cross)\n"
   ]
  },
  {
   "cell_type": "code",
   "execution_count": null,
   "metadata": {},
   "outputs": [],
   "source": [
    "W, X_poly, optimal_degree, optimal_lambda, optimal_gamma, accuracy = analyze_method(methods[\"least_squares_SGD\"], X_normalized, y, masks, cross= True, degrees = np.arange(5, 11), gammas = np.logspace(-10, -0.5, 6), max_iters = 10, name = \"category \")"
   ]
  },
  {
   "cell_type": "markdown",
   "metadata": {},
   "source": [
    "### Linear SGD with polynomial expansion on features\n"
   ]
  },
  {
   "cell_type": "code",
   "execution_count": null,
   "metadata": {},
   "outputs": [],
   "source": [
    "W, X_poly, optimal_degree, optimal_lambda, optimal_gamma, accuracy = analyze_method(methods[\"least_squares_SGD\"], X_normalized, y, masks, degrees = np.arange(5, 11), gammas = np.logspace(-10, -0.5, 6), max_iters = 10, name = \"category \")"
   ]
  },
  {
   "cell_type": "markdown",
   "metadata": {},
   "source": [
    "### Regularized logistic regression with polynomial expansion on features\n"
   ]
  },
  {
   "cell_type": "code",
   "execution_count": null,
   "metadata": {},
   "outputs": [],
   "source": [
    "W, X_poly, optimal_degree, optimal_lambda, optimal_gamma, accuracy = analyze_method(methods[\"reg_logistic_regression\"], X_normalized, y, masks,  degrees = np.arange(5, 9),gammas = np.logspace(-10, -0.2, 4), max_iters = 50, name = \"category \")"
   ]
  },
  {
   "cell_type": "markdown",
   "metadata": {},
   "source": [
    "### Regularized logistic regression with polynomial expansion on features (cross)\n"
   ]
  },
  {
   "cell_type": "code",
   "execution_count": null,
   "metadata": {},
   "outputs": [],
   "source": [
    "W, X_poly, optimal_degree, optimal_lambda, optimal_gamma, accuracy = analyze_method(methods[\"reg_logistic_regression\"], X_normalized, y, masks, cross = True  degrees = np.arange(5, 9),gammas = np.logspace(-10, -0.2, 4), max_iters = 50, name = \"category \")"
   ]
  },
  {
   "cell_type": "markdown",
   "metadata": {},
   "source": [
    "## Generate predictions and save ouput in csv format for submission:"
   ]
  },
  {
   "cell_type": "code",
   "execution_count": 59,
   "metadata": {
    "jupyter": {
     "source_hidden": true
    }
   },
   "outputs": [],
   "source": [
    "DATA_TEST_PATH = '../data/test.csv'\n",
    "_, tX_test, ids_test = load_csv_data(DATA_TEST_PATH)"
   ]
  },
  {
   "cell_type": "code",
   "execution_count": 94,
   "metadata": {},
   "outputs": [],
   "source": [
    "x1_test_poly = build_multi_poly(x1_test_normalized, optimal_degree[0])\n",
    "x2_test_poly = build_multi_poly(x2_test_normalized, optimal_degree[1])\n",
    "x3_test_poly = build_multi_poly(x3_test_normalized, optimal_degree[2])\n",
    "x4_test_poly = build_multi_poly(x4_test_normalized, optimal_degree[3])\n",
    "\n",
    "X_test = np.array([x1_test_poly, x2_test_poly, x3_test_poly, x4_test_poly])"
   ]
  },
  {
   "cell_type": "code",
   "execution_count": 95,
   "metadata": {},
   "outputs": [],
   "source": [
    "OUTPUT_PATH = '../data/submission_file.csv' # TODO: fill in desired name of output file for submission\n",
    "y_pred = np.zeros(tX_test.shape[0])\n",
    "\n",
    "y_pred[masks_test[0]] = predict_labels(W[0], X_test[0])\n",
    "y_pred[masks_test[1]] = predict_labels(W[1], X_test[1])\n",
    "y_pred[masks_test[2]] = predict_labels(W[2], X_test[2])\n",
    "y_pred[masks_test[3]] = predict_labels(W[3], X_test[3])\n",
    "create_csv_submission(ids_test, y_pred, OUTPUT_PATH)"
   ]
  },
  {
   "cell_type": "code",
   "execution_count": null,
   "metadata": {},
   "outputs": [],
   "source": []
  },
  {
   "cell_type": "code",
   "execution_count": null,
   "metadata": {},
   "outputs": [],
   "source": []
  }
 ],
 "metadata": {
  "anaconda-cloud": {},
  "kernelspec": {
   "display_name": "Python [conda env:root]",
   "language": "python",
   "name": "conda-root-py"
  },
  "language_info": {
   "codemirror_mode": {
    "name": "ipython",
    "version": 3
   },
   "file_extension": ".py",
   "mimetype": "text/x-python",
   "name": "python",
   "nbconvert_exporter": "python",
   "pygments_lexer": "ipython3",
   "version": "3.7.3"
  }
 },
 "nbformat": 4,
 "nbformat_minor": 4
}
